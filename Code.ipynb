{
 "cells": [
  {
   "cell_type": "code",
   "execution_count": 1,
   "metadata": {},
   "outputs": [],
   "source": [
    "import numpy as np\n",
    "import pandas as pd\n",
    "import time\n",
    "import matplotlib.pyplot as plt\n",
    "%matplotlib inline\n",
    "\n",
    "import cv2\n"
   ]
  },
  {
   "cell_type": "code",
   "execution_count": 2,
   "metadata": {},
   "outputs": [
    {
     "name": "stdout",
     "output_type": "stream",
     "text": [
      "--- 40.23987436294556 seconds ---\n",
      "(4096, 1832)\n",
      "1832\n"
     ]
    }
   ],
   "source": [
    "cap = cv2.VideoCapture('video.mp4') \n",
    "\n",
    "arr = np.empty((0,4096), int)   #initializing 4096 dimensional array to store 'flattened' color histograms\n",
    "D=dict()   #to store the original frame (array)\n",
    "count=0    #counting the number of frames\n",
    "start_time = time.time()\n",
    "while cap.isOpened():\n",
    "    \n",
    "    # Read the video file.\n",
    "    ret, frame = cap.read()\n",
    "    \n",
    "    # If we got frames.\n",
    "    if ret == True:\n",
    "        frame_rgb = cv2.cvtColor(frame, cv2.COLOR_BGR2RGB)  #since cv reads frame in bgr order so rearraning to get frames in rgb order\n",
    "        D[count] = frame_rgb   #storing each frame (array) to D , so that we can identify key frames later \n",
    "        hist = cv2.calcHist(frame_rgb, [0, 1, 2], None, [16, 16, 16], [0, 256, 0, 256, 0, 256])  #finding histograms\n",
    "        hist1= hist.flatten()  #flatten the hist to one-dimensinal vector         \n",
    "        arr =np.vstack((arr, hist1))  #appending each one-dimensinal vector to generate N*M matrix (where N is number of frames\n",
    "          #and M is 4096)\n",
    "        count+=1\n",
    "    else:\n",
    "        break\n",
    "\n",
    "print(\"--- %s seconds ---\" % (time.time() - start_time))\n",
    "\n",
    "final_arr = arr.transpose()   #transposing so that i will have all frames in columns i.e M*N dimensional matrix \n",
    "#where M is 4096 and N is number of frames\n",
    "\n",
    "print(final_arr.shape)\n",
    "print(count)\n"
   ]
  },
  {
   "cell_type": "code",
   "execution_count": 3,
   "metadata": {},
   "outputs": [],
   "source": [
    "U, S, V = np.linalg.svd(final_arr) #SVD of Final_arr matrix"
   ]
  },
  {
   "cell_type": "code",
   "execution_count": 4,
   "metadata": {},
   "outputs": [
    {
     "name": "stdout",
     "output_type": "stream",
     "text": [
      "(4096, 4096) (1832,) (1832, 1832)\n"
     ]
    }
   ],
   "source": [
    "print(U.shape, S.shape, V.shape)"
   ]
  },
  {
   "cell_type": "code",
   "execution_count": 5,
   "metadata": {},
   "outputs": [],
   "source": [
    "S1= S[:15]  #top 15 singular values from 44152 to 2045"
   ]
  },
  {
   "cell_type": "code",
   "execution_count": 6,
   "metadata": {},
   "outputs": [],
   "source": [
    "v1= V[:15, :]  # 15 vectors from right singular vector corresponding to 15 largest singular value"
   ]
  },
  {
   "cell_type": "code",
   "execution_count": 8,
   "metadata": {},
   "outputs": [],
   "source": [
    "v1_t = v1.transpose()"
   ]
  },
  {
   "cell_type": "code",
   "execution_count": 9,
   "metadata": {},
   "outputs": [
    {
     "name": "stdout",
     "output_type": "stream",
     "text": [
      "(1832, 15)\n"
     ]
    }
   ],
   "source": [
    "projections = v1_t @ np.diag(S1) #the column vectors i.e the frame histogram data has been projected onto the orthonormal basis \n",
    "#formed by vectors of the left singular matrix U .The coordinates of the frames in this space are given by v1_t @ np.diag(S1)\n",
    "#So we can see that , now we need only 15 dimensions to represent each column/frame \n",
    "print(projections.shape)"
   ]
  },
  {
   "cell_type": "code",
   "execution_count": 10,
   "metadata": {},
   "outputs": [],
   "source": []
  },
  {
   "cell_type": "code",
   "execution_count": 10,
   "metadata": {},
   "outputs": [],
   "source": [
    "#dynamic clustering of projected frame histograms to find which all frames are similar i.e make shots\n",
    "f=projections\n",
    "C = dict() #to store frames in respective cluster\n",
    "for i in range(f.shape[0]):\n",
    "    C[i] = np.empty((0,15), int)\n",
    "    \n",
    "#adding first two projected frames in first cluster i.e Initializaton    \n",
    "C[0] = np.vstack((C[0], f[0]))   \n",
    "C[0] = np.vstack((C[0], f[1]))\n",
    "\n",
    "E = dict() #to store centroids of each cluster\n",
    "for i in range(projections.shape[0]):\n",
    "    E[i] = np.empty((0,15), int)\n",
    "    \n",
    "E[0] = np.mean(C[0], axis=0) #finding centroid of C[0] cluster\n",
    "\n",
    "count = 0\n",
    "for i in range(2,f.shape[0]):\n",
    "    similarity = np.dot(f[i], E[count])/( (np.dot(f[i],f[i]) **.5) * (np.dot(E[count], E[count]) ** .5)) #cosine similarity\n",
    "    #this metric is used to quantify how similar is one vector to other. The maximum value is 1 which indicates they are same\n",
    "    #and if the value is 0 which indicates they are orthogonal nothing is common between them.\n",
    "    #Here we want to find similarity between each projected frame and last cluster formed chronologically. \n",
    "     \n",
    "    \n",
    "    if similarity < 0.9: #if the projected frame and last cluster formed  are not similar upto 0.9 cosine value then \n",
    "                         #we assign this data point to newly created cluster and find centroid \n",
    "                         #We checked other thresholds also like 0.85, 0.875, 0.95, 0.98\n",
    "                        #but 0.9 looks okay because as we go below then we get many key-frames for similar event and \n",
    "                        #as we go above we have lesser number of key-frames thus missed some events. So, 0.9 seems optimal.\n",
    "                        \n",
    "        count+=1         \n",
    "        C[count] = np.vstack((C[count], f[i])) \n",
    "        E[count] = np.mean(C[count], axis=0)   \n",
    "    else:  #if they are similar then assign this data point to last cluster formed and update the centroid of the cluster\n",
    "        C[count] = np.vstack((C[count], f[i])) \n",
    "        E[count] = np.mean(C[count], axis=0)          "
   ]
  },
  {
   "cell_type": "code",
   "execution_count": 11,
   "metadata": {},
   "outputs": [],
   "source": [
    "b = []  #find the number of data points in each cluster formed.\n",
    "\n",
    "#We can assume that sparse clusters indicates \n",
    "#transition between shots so we will ignore these frames which lies in such clusters and wherever the clusters are densely populated indicates they form shots\n",
    "#and we can take the last element of these shots to summarise that particular shot\n",
    "\n",
    "for i in range(f.shape[0]):\n",
    "    b.append(C[i].shape[0])\n",
    "\n",
    "last = b.index(0)  #where we find 0 in b indicates that all required clusters have been formed , so we can delete these from C\n",
    "b1=b[:last ] #The size of each cluster."
   ]
  },
  {
   "cell_type": "code",
   "execution_count": 12,
   "metadata": {},
   "outputs": [
    {
     "name": "stdout",
     "output_type": "stream",
     "text": [
      "27\n"
     ]
    }
   ],
   "source": [
    "res = [idx for idx, val in enumerate(b1) if val >= 25] #so i am assuming any dense cluster with atleast 25 frames is eligible to \n",
    "#make shot.\n",
    "print(len(res)) #so total 27 shots with 44 (71-27) cuts"
   ]
  },
  {
   "cell_type": "code",
   "execution_count": 13,
   "metadata": {},
   "outputs": [],
   "source": [
    "GG = C #copying the elements of C to GG, the purpose of  the below code is to label each cluster so later \n",
    "#it would be easier to identify frames in each cluster\n",
    "for i in range(last):\n",
    "    p1= np.repeat(i, b1[i]).reshape(b1[i],1)\n",
    "    GG[i] = np.hstack((GG[i],p1))"
   ]
  },
  {
   "cell_type": "code",
   "execution_count": 14,
   "metadata": {},
   "outputs": [],
   "source": [
    "#the purpose of the below code is to append each cluster to get multidimensional array of dimension N*16, N is number of frames\n",
    "F=  np.empty((0,16), int) \n",
    "for i in range(last):\n",
    "    F = np.vstack((F,GG[i]))"
   ]
  },
  {
   "cell_type": "code",
   "execution_count": 15,
   "metadata": {},
   "outputs": [],
   "source": [
    "#converting F (multidimensional array)  to dataframe\n",
    "colnames = ['v1', 'v2', 'v3','v4', 'v5', 'v6', 'v7', 'v8','v9', 'v10', 'v11', 'v12', 'v13','v14', 'v15', 'v16' ]\n",
    "df = pd.DataFrame(F, columns= colnames)"
   ]
  },
  {
   "cell_type": "code",
   "execution_count": 16,
   "metadata": {},
   "outputs": [],
   "source": [
    "df['v16']= df['v16'].astype(int)  #converting the cluster level from float type to integer type"
   ]
  },
  {
   "cell_type": "code",
   "execution_count": 17,
   "metadata": {},
   "outputs": [],
   "source": [
    "df1 =  df[df.v16.isin(res)]   #filter only those frames which are eligible to be a part of shot or filter those frames who are\n",
    "#part of required clusters that have more than 25 frames in it"
   ]
  },
  {
   "cell_type": "code",
   "execution_count": 18,
   "metadata": {},
   "outputs": [],
   "source": [
    "new = df1.groupby('v16').tail(1)['v16'] #For each cluster /group take its last element which summarize the shot i.e key-frame"
   ]
  },
  {
   "cell_type": "code",
   "execution_count": 19,
   "metadata": {},
   "outputs": [],
   "source": [
    "\n",
    "new1 = new.index #finding key-frames (frame number so that we can go back get the original picture)\n",
    "                                   "
   ]
  },
  {
   "cell_type": "code",
   "execution_count": 122,
   "metadata": {},
   "outputs": [],
   "source": [
    "#output the frames in png format\n",
    "for c in new1:\n",
    "    frame_rgb1 = cv2.cvtColor(D[c], cv2.COLOR_RGB2BGR) #since cv consider image in BGR order\n",
    "    frame_num_chr = str(c)\n",
    "    file_name = 'frame'+ frame_num_chr +'.png'\n",
    "    cv2.imwrite(file_name, frame_rgb1)\n",
    "    "
   ]
  },
  {
   "cell_type": "code",
   "execution_count": null,
   "metadata": {},
   "outputs": [],
   "source": []
  },
  {
   "cell_type": "code",
   "execution_count": null,
   "metadata": {},
   "outputs": [],
   "source": []
  },
  {
   "cell_type": "code",
   "execution_count": 123,
   "metadata": {},
   "outputs": [],
   "source": []
  },
  {
   "cell_type": "code",
   "execution_count": null,
   "metadata": {},
   "outputs": [],
   "source": []
  },
  {
   "cell_type": "code",
   "execution_count": null,
   "metadata": {},
   "outputs": [],
   "source": []
  },
  {
   "cell_type": "code",
   "execution_count": null,
   "metadata": {},
   "outputs": [],
   "source": []
  },
  {
   "cell_type": "code",
   "execution_count": null,
   "metadata": {},
   "outputs": [],
   "source": []
  },
  {
   "cell_type": "code",
   "execution_count": null,
   "metadata": {},
   "outputs": [],
   "source": []
  }
 ],
 "metadata": {
  "kernelspec": {
   "display_name": "Python 3",
   "language": "python",
   "name": "python3"
  },
  "language_info": {
   "codemirror_mode": {
    "name": "ipython",
    "version": 3
   },
   "file_extension": ".py",
   "mimetype": "text/x-python",
   "name": "python",
   "nbconvert_exporter": "python",
   "pygments_lexer": "ipython3",
   "version": "3.6.6"
  }
 },
 "nbformat": 4,
 "nbformat_minor": 2
}
