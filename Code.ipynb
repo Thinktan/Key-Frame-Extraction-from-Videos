{
 "cells": [
  {
   "cell_type": "code",
   "execution_count": 9,
   "metadata": {},
   "outputs": [],
   "source": [
    "import numpy as np\n",
    "import pandas as pd\n",
    "import time\n",
    "import matplotlib.pyplot as plt\n",
    "%matplotlib inline\n",
    "import cv2\n"
   ]
  },
  {
   "cell_type": "code",
   "execution_count": 10,
   "metadata": {},
   "outputs": [
    {
     "name": "stdout",
     "output_type": "stream",
     "text": [
      "--- 39.90989422798157 seconds ---\n",
      "(1944, 1832)\n",
      "1832\n"
     ]
    }
   ],
   "source": [
    "cap = cv2.VideoCapture('video.mp4') \n",
    "\n",
    "arr = np.empty((0, 1944), int)   #initializing 1944 dimensional array to store 'flattened' color histograms\n",
    "D=dict()   #to store the original frame (array)\n",
    "count=0    #counting the number of frames\n",
    "start_time = time.time()\n",
    "while cap.isOpened():\n",
    "    \n",
    "    # Read the video file.\n",
    "    ret, frame = cap.read()\n",
    "    \n",
    "    # If we got frames.\n",
    "    if ret == True:\n",
    "        frame_rgb = cv2.cvtColor(frame, cv2.COLOR_BGR2RGB)  #since cv reads frame in bgr order so rearraning to get frames in rgb order\n",
    "        D[count] = frame_rgb   #storing each frame (array) to D , so that we can identify key frames later \n",
    "        \n",
    "        #dividing a frame into 3*3 i.e 9 blocks\n",
    "        height, width, channels = frame_rgb.shape\n",
    "\n",
    "        if height % 3 == 0:\n",
    "            h_chunk = int(height/3)\n",
    "        else:\n",
    "            h_chunk = int(height/3) + 1\n",
    "\n",
    "        if width % 3 == 0:\n",
    "            w_chunk = int(width/3)\n",
    "        else:\n",
    "            w_chunk = int(width/3) + 1\n",
    "\n",
    "        h=0\n",
    "        w= 0 \n",
    "        feature_vector = []\n",
    "        for a in range(1,4):\n",
    "            h_window = h_chunk*a\n",
    "            for b in range(1,4):\n",
    "                frame = frame_rgb[h : h_window, w : w_chunk*b , :]\n",
    "                hist = cv2.calcHist(frame, [0, 1, 2], None, [6, 6, 6], [0, 256, 0, 256, 0, 256])#finding histograms for each block  \n",
    "                hist1= hist.flatten()  #flatten the hist to one-dimensinal vector \n",
    "                feature_vector += list(hist1)\n",
    "                w = w_chunk*b\n",
    "                \n",
    "            h = h_chunk*a\n",
    "            w= 0\n",
    "\n",
    "                \n",
    "        arr =np.vstack((arr, feature_vector )) #appending each one-dimensinal vector to generate N*M matrix (where N is number of frames\n",
    "          #and M is 1944) \n",
    "        count+=1\n",
    "    else:\n",
    "        break\n",
    "\n",
    "print(\"--- %s seconds ---\" % (time.time() - start_time))\n",
    "\n",
    "final_arr = arr.transpose() #transposing so that i will have all frames in columns i.e M*N dimensional matrix \n",
    "#where M is 1944 and N is number of frames\n",
    "print(final_arr.shape)\n",
    "print(count)\n"
   ]
  },
  {
   "cell_type": "code",
   "execution_count": 12,
   "metadata": {},
   "outputs": [],
   "source": [
    "from scipy.sparse import csc_matrix\n",
    "from scipy.sparse.linalg import svds, eigs\n",
    "A = csc_matrix(final_arr, dtype=float)\n",
    "\n",
    "#top 63 singular values from 76082 to 508\n",
    "u, s, vt = svds(A, k = 63)\n"
   ]
  },
  {
   "cell_type": "code",
   "execution_count": 13,
   "metadata": {},
   "outputs": [
    {
     "name": "stdout",
     "output_type": "stream",
     "text": [
      "(1944, 63) (63,) (63, 1832)\n"
     ]
    }
   ],
   "source": [
    "print(u.shape, s.shape, vt.shape)"
   ]
  },
  {
   "cell_type": "code",
   "execution_count": 14,
   "metadata": {},
   "outputs": [
    {
     "name": "stdout",
     "output_type": "stream",
     "text": [
      "[507.5863397910357, 513.3394019469024, 542.5885461980109, 557.4615730264477, 581.1252578281174, 595.6523491133368, 625.8676251128741, 667.3543038445861, 703.9369306867549, 785.0033226440829, 824.124029717275, 830.209533299686, 862.3243911201391, 962.1678005881322, 993.1884335353172, 1074.4879221595804, 1104.0363306894778, 1174.3795871198795, 1310.4024628743737, 1429.805972926553, 1436.0497628725554, 1784.0835463882913, 1920.574374704026, 2075.5124822673397, 2235.993003895149, 2450.850435862493, 2789.8612842475436, 3266.4378720353498, 3467.454332697817, 3703.274422880434, 4026.512028827833, 4160.6004109164205, 4339.992564704213, 4608.340768433535, 4872.7117729272795, 5124.862670258986, 5276.3095425231095, 5668.146768603114, 5931.50792208964, 5952.291087578094, 6235.342567902841, 6697.2983210833945, 6776.947714481712, 7065.201258998802, 7853.121480587886, 8067.823543248019, 8691.548708604732, 9140.66174435993, 9938.174572146692, 10316.7572232955, 10792.030201567122, 11187.863261213435, 11687.075188310097, 13425.11557145946, 13830.826759645013, 14644.21827424255, 15148.499757824602, 16712.59359000954, 17776.734430885102, 22769.41272124729, 30817.59754211364, 45793.98450615914, 76082.29505434034]\n"
     ]
    }
   ],
   "source": [
    "print(list(s))"
   ]
  },
  {
   "cell_type": "code",
   "execution_count": 15,
   "metadata": {},
   "outputs": [
    {
     "name": "stdout",
     "output_type": "stream",
     "text": [
      "(1832, 63)\n"
     ]
    }
   ],
   "source": [
    "v1_t = vt.transpose()\n",
    "\n",
    "projections = v1_t @ np.diag(s) #the column vectors i.e the frame histogram data has been projected onto the orthonormal basis \n",
    "#formed by vectors of the left singular matrix u .The coordinates of the frames in this space are given by v1_t @ np.diag(s)\n",
    "#So we can see that , now we need only 63 dimensions to represent each column/frame \n",
    "print(projections.shape)"
   ]
  },
  {
   "cell_type": "code",
   "execution_count": 16,
   "metadata": {},
   "outputs": [],
   "source": [
    "#dynamic clustering of projected frame histograms to find which all frames are similar i.e make shots\n",
    "f=projections\n",
    "C = dict() #to store frames in respective cluster\n",
    "for i in range(f.shape[0]):\n",
    "    C[i] = np.empty((0,63), int)\n",
    "    \n",
    "#adding first two projected frames in first cluster i.e Initializaton    \n",
    "C[0] = np.vstack((C[0], f[0]))   \n",
    "C[0] = np.vstack((C[0], f[1]))\n",
    "\n",
    "E = dict() #to store centroids of each cluster\n",
    "for i in range(projections.shape[0]):\n",
    "    E[i] = np.empty((0,63), int)\n",
    "    \n",
    "E[0] = np.mean(C[0], axis=0) #finding centroid of C[0] cluster\n",
    "\n",
    "count = 0\n",
    "for i in range(2,f.shape[0]):\n",
    "    similarity = np.dot(f[i], E[count])/( (np.dot(f[i],f[i]) **.5) * (np.dot(E[count], E[count]) ** .5)) #cosine similarity\n",
    "    #this metric is used to quantify how similar is one vector to other. The maximum value is 1 which indicates they are same\n",
    "    #and if the value is 0 which indicates they are orthogonal nothing is common between them.\n",
    "    #Here we want to find similarity between each projected frame and last cluster formed chronologically. \n",
    "     \n",
    "    \n",
    "    if similarity < 0.9: #if the projected frame and last cluster formed  are not similar upto 0.9 cosine value then \n",
    "                         #we assign this data point to newly created cluster and find centroid \n",
    "                         #We checked other thresholds also like 0.85, 0.875, 0.95, 0.98\n",
    "                        #but 0.9 looks okay because as we go below then we get many key-frames for similar event and \n",
    "                        #as we go above we have lesser number of key-frames thus missed some events. So, 0.9 seems optimal.\n",
    "                        \n",
    "        count+=1         \n",
    "        C[count] = np.vstack((C[count], f[i])) \n",
    "        E[count] = np.mean(C[count], axis=0)   \n",
    "    else:  #if they are similar then assign this data point to last cluster formed and update the centroid of the cluster\n",
    "        C[count] = np.vstack((C[count], f[i])) \n",
    "        E[count] = np.mean(C[count], axis=0)          "
   ]
  },
  {
   "cell_type": "code",
   "execution_count": 17,
   "metadata": {},
   "outputs": [],
   "source": [
    "b = []  #find the number of data points in each cluster formed.\n",
    "\n",
    "#We can assume that sparse clusters indicates \n",
    "#transition between shots so we will ignore these frames which lies in such clusters and wherever the clusters are densely populated indicates they form shots\n",
    "#and we can take the last element of these shots to summarise that particular shot\n",
    "\n",
    "for i in range(f.shape[0]):\n",
    "    b.append(C[i].shape[0])\n",
    "\n",
    "last = b.index(0)  #where we find 0 in b indicates that all required clusters have been formed , so we can delete these from C\n",
    "b1=b[:last ] #The size of each cluster."
   ]
  },
  {
   "cell_type": "code",
   "execution_count": 18,
   "metadata": {},
   "outputs": [
    {
     "name": "stdout",
     "output_type": "stream",
     "text": [
      "25\n"
     ]
    }
   ],
   "source": [
    "res = [idx for idx, val in enumerate(b1) if val >= 25] #so i am assuming any dense cluster with atleast 25 frames is eligible to \n",
    "#make shot.\n",
    "print(len(res)) #so total 25 shots with 46 (71-25) cuts"
   ]
  },
  {
   "cell_type": "code",
   "execution_count": 19,
   "metadata": {},
   "outputs": [],
   "source": [
    "GG = C #copying the elements of C to GG, the purpose of  the below code is to label each cluster so later \n",
    "#it would be easier to identify frames in each cluster\n",
    "for i in range(last):\n",
    "    p1= np.repeat(i, b1[i]).reshape(b1[i],1)\n",
    "    GG[i] = np.hstack((GG[i],p1))"
   ]
  },
  {
   "cell_type": "code",
   "execution_count": 20,
   "metadata": {},
   "outputs": [],
   "source": [
    "#the purpose of the below code is to append each cluster to get multidimensional array of dimension N*64, N is number of frames\n",
    "F=  np.empty((0,64), int) \n",
    "for i in range(last):\n",
    "    F = np.vstack((F,GG[i]))"
   ]
  },
  {
   "cell_type": "code",
   "execution_count": 21,
   "metadata": {},
   "outputs": [
    {
     "name": "stdout",
     "output_type": "stream",
     "text": [
      "['v1', 'v2', 'v3', 'v4', 'v5', 'v6', 'v7', 'v8', 'v9', 'v10', 'v11', 'v12', 'v13', 'v14', 'v15', 'v16', 'v17', 'v18', 'v19', 'v20', 'v21', 'v22', 'v23', 'v24', 'v25', 'v26', 'v27', 'v28', 'v29', 'v30', 'v31', 'v32', 'v33', 'v34', 'v35', 'v36', 'v37', 'v38', 'v39', 'v40', 'v41', 'v42', 'v43', 'v44', 'v45', 'v46', 'v47', 'v48', 'v49', 'v50', 'v51', 'v52', 'v53', 'v54', 'v55', 'v56', 'v57', 'v58', 'v59', 'v60', 'v61', 'v62', 'v63', 'v64']\n"
     ]
    }
   ],
   "source": [
    "#converting F (multidimensional array)  to dataframe\n",
    "\n",
    "colnames = []\n",
    "for i in range(1, 65):\n",
    "    col_name = \"v\" + str(i)\n",
    "    colnames+= [col_name]\n",
    "print(colnames)\n",
    "\n",
    "df = pd.DataFrame(F, columns= colnames)"
   ]
  },
  {
   "cell_type": "code",
   "execution_count": 22,
   "metadata": {},
   "outputs": [],
   "source": [
    "df['v64']= df['v64'].astype(int)  #converting the cluster level from float type to integer type"
   ]
  },
  {
   "cell_type": "code",
   "execution_count": 23,
   "metadata": {},
   "outputs": [],
   "source": [
    "df1 =  df[df.v64.isin(res)]   #filter only those frames which are eligible to be a part of shot or filter those frames who are\n",
    "#part of required clusters that have more than 25 frames in it"
   ]
  },
  {
   "cell_type": "code",
   "execution_count": 24,
   "metadata": {},
   "outputs": [],
   "source": [
    "new = df1.groupby('v64').tail(1)['v64'] #For each cluster /group take its last element which summarize the shot i.e key-frame"
   ]
  },
  {
   "cell_type": "code",
   "execution_count": 25,
   "metadata": {},
   "outputs": [],
   "source": [
    "\n",
    "new1 = new.index #finding key-frames (frame number so that we can go back get the original picture)\n",
    "                                   "
   ]
  },
  {
   "cell_type": "code",
   "execution_count": 26,
   "metadata": {},
   "outputs": [],
   "source": [
    "#output the frames in png format\n",
    "for c in new1:\n",
    "    frame_rgb1 = cv2.cvtColor(D[c], cv2.COLOR_RGB2BGR) #since cv consider image in BGR order\n",
    "    frame_num_chr = str(c)\n",
    "    file_name = 'frame'+ frame_num_chr +'.png'\n",
    "    cv2.imwrite(file_name, frame_rgb1)\n",
    "    "
   ]
  },
  {
   "cell_type": "code",
   "execution_count": null,
   "metadata": {},
   "outputs": [],
   "source": []
  }
 ],
 "metadata": {
  "kernelspec": {
   "display_name": "Python 3",
   "language": "python",
   "name": "python3"
  },
  "language_info": {
   "codemirror_mode": {
    "name": "ipython",
    "version": 3
   },
   "file_extension": ".py",
   "mimetype": "text/x-python",
   "name": "python",
   "nbconvert_exporter": "python",
   "pygments_lexer": "ipython3",
   "version": "3.7.3"
  }
 },
 "nbformat": 4,
 "nbformat_minor": 2
}
